{
 "cells": [
  {
   "cell_type": "markdown",
   "id": "d853f202-eacd-4da4-9303-775d5e875d4d",
   "metadata": {},
   "source": [
    "This repository contains the code used to run the experiments described in the paper **`Effective Net Load Forecasting in Solar-Integrated Homes with Battery Systems`**\n",
    "\n",
    "### Files and Folders\n",
    "- `notebooks/`: Contains Jupyter notebooks used for data pre-processing and post-processing.\n",
    "- `NetLoadForecasting.py`: The main Python script where the core experiments are implemented.\n",
    "\n",
    "\n",
    "## Usage\n",
    "\n",
    "1. The following Python packages are required to run the experiments: `scikit-learn`, `pandas`, `numpy`, `catboost`, `xgboost`\n",
    "\n",
    "1. Make sure that your dataset is included in a `data/` folder and formatted in a comma-separated value format.\n",
    "\n",
    "2. To run the Python script, simply execute:\n",
    "    ```bash\n",
    "    python NetLoadForecasting.py\n",
    "    ```"
   ]
  },
  {
   "cell_type": "code",
   "execution_count": null,
   "id": "a0f89cf9-18cc-4363-9114-19542b9ae972",
   "metadata": {},
   "outputs": [],
   "source": []
  }
 ],
 "metadata": {
  "kernelspec": {
   "display_name": "Python 3 (ipykernel)",
   "language": "python",
   "name": "python3"
  },
  "language_info": {
   "codemirror_mode": {
    "name": "ipython",
    "version": 3
   },
   "file_extension": ".py",
   "mimetype": "text/x-python",
   "name": "python",
   "nbconvert_exporter": "python",
   "pygments_lexer": "ipython3",
   "version": "3.8.0"
  }
 },
 "nbformat": 4,
 "nbformat_minor": 5
}
